{
 "cells": [
  {
   "cell_type": "code",
   "execution_count": 158,
   "metadata": {},
   "outputs": [],
   "source": [
    "import torch\n",
    "import numpy as np\n",
    "from torch.nn import functional as F\n",
    "import plotly.express as px\n",
    "from Rookie import *\n",
    "import cv2"
   ]
  },
  {
   "cell_type": "code",
   "execution_count": 42,
   "metadata": {},
   "outputs": [],
   "source": [
    "hdu, data = get_hdu_and_data(r\"C:\\Users\\Kir\\Jupiter\\ImagesForCyril\\GRB201015A-001R.60-sum.fit\")\n",
    "img = crop_img(data)"
   ]
  },
  {
   "cell_type": "code",
   "execution_count": 2,
   "metadata": {},
   "outputs": [],
   "source": [
    "def create_kernel(r, normed=True):\n",
    "    kernel = np.zeros((2*r+1, 2*r+1))\n",
    "    y, x = np.ogrid[:2*r+1, :2*r+1]\n",
    "    dst = np.sqrt((x-r)**2 + (y-r)**2)\n",
    "    mask = ((dst <= r)&(dst > r-1)).astype(int)\n",
    "    return mask/np.sum(mask) if normed else mask"
   ]
  },
  {
   "cell_type": "code",
   "execution_count": 20,
   "metadata": {},
   "outputs": [],
   "source": [
    "def convolutions(img, max_r=5):\n",
    "    stack = np.zeros((max_r, *img.shape))\n",
    "    for r in range(max_r):\n",
    "        stack[r] = cv2.filter2D(img.astype(float), -1, create_kernel(r))\n",
    "    return stack"
   ]
  },
  {
   "cell_type": "code",
   "execution_count": 148,
   "metadata": {},
   "outputs": [],
   "source": [
    "def torch_convolutions(img, max_r=5):\n",
    "    torch_img = torch.FloatTensor(img.reshape(1, 1, *img.shape).astype(float))\n",
    "    torch_stack = torch.zeros((15, *img.shape))\n",
    "    for r in range(max_r):\n",
    "        torch_kernel = torch.FloatTensor(create_kernel(r).reshape(1, 1, 2*r+1, 2*r+1))\n",
    "        torch_stack[0] = F.conv2d(torch_img, torch_kernel, padding='same')[0][0]\n",
    "    return torch_stack"
   ]
  },
  {
   "cell_type": "code",
   "execution_count": 165,
   "metadata": {},
   "outputs": [
    {
     "name": "stdout",
     "output_type": "stream",
     "text": [
      "Wall time: 144 ms\n"
     ]
    }
   ],
   "source": [
    "%%time\n",
    "a = cv2.filter2D(data.astype(float), -1, create_kernel(10))"
   ]
  },
  {
   "cell_type": "code",
   "execution_count": 193,
   "metadata": {},
   "outputs": [
    {
     "name": "stdout",
     "output_type": "stream",
     "text": [
      "Wall time: 58 ms\n"
     ]
    }
   ],
   "source": [
    "%%time\n",
    "r = 10\n",
    "torch_kernel = torch.FloatTensor(create_kernel(r).reshape(1, 1, 2*r+1, 2*r+1))\n",
    "torch_img = torch.FloatTensor(data.reshape(1, 1, *data.shape).astype(float))"
   ]
  },
  {
   "cell_type": "code",
   "execution_count": 194,
   "metadata": {},
   "outputs": [
    {
     "data": {
      "text/plain": [
       "torch.Size([1, 1, 21, 21])"
      ]
     },
     "execution_count": 194,
     "metadata": {},
     "output_type": "execute_result"
    }
   ],
   "source": [
    "torch_kernel.shape"
   ]
  },
  {
   "cell_type": "code",
   "execution_count": 196,
   "metadata": {},
   "outputs": [
    {
     "name": "stdout",
     "output_type": "stream",
     "text": [
      "Wall time: 677 ms\n"
     ]
    }
   ],
   "source": [
    "%%time\n",
    "b = F.conv2d(torch_img, torch_kernel, padding=0)[0]"
   ]
  },
  {
   "cell_type": "code",
   "execution_count": null,
   "metadata": {},
   "outputs": [],
   "source": []
  },
  {
   "cell_type": "code",
   "execution_count": null,
   "metadata": {},
   "outputs": [],
   "source": []
  },
  {
   "cell_type": "code",
   "execution_count": null,
   "metadata": {},
   "outputs": [],
   "source": []
  }
 ],
 "metadata": {
  "kernelspec": {
   "display_name": "Python 3",
   "language": "python",
   "name": "python3"
  },
  "language_info": {
   "codemirror_mode": {
    "name": "ipython",
    "version": 3
   },
   "file_extension": ".py",
   "mimetype": "text/x-python",
   "name": "python",
   "nbconvert_exporter": "python",
   "pygments_lexer": "ipython3",
   "version": "3.8.5"
  }
 },
 "nbformat": 4,
 "nbformat_minor": 4
}
